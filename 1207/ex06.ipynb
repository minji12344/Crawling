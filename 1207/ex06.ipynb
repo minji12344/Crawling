{
 "cells": [
  {
   "cell_type": "markdown",
   "metadata": {},
   "source": [
    "### K평균"
   ]
  },
  {
   "cell_type": "code",
   "execution_count": 4,
   "metadata": {},
   "outputs": [],
   "source": [
    "import pandas as pd\n",
    "import matplotlib.pyplot as plt\n",
    "import numpy as np"
   ]
  },
  {
   "cell_type": "code",
   "execution_count": 5,
   "metadata": {},
   "outputs": [
    {
     "data": {
      "text/plain": [
       "array([[  7.33,  73.  ],\n",
       "       [  3.71,  55.  ],\n",
       "       [  3.43,  55.  ],\n",
       "       [  3.06,  89.  ],\n",
       "       [  3.33,  79.  ],\n",
       "       [  7.22,  26.  ],\n",
       "       [  8.12,  15.  ],\n",
       "       [  5.74,  62.  ],\n",
       "       [  8.73,  59.  ],\n",
       "       [  4.73,  74.  ],\n",
       "       [  5.  ,  78.  ],\n",
       "       [  2.63,  46.  ],\n",
       "       [  7.02,   5.  ],\n",
       "       [  3.45,  38.  ],\n",
       "       [  3.06,  49.  ],\n",
       "       [  4.13,  66.  ],\n",
       "       [  9.17,  29.  ],\n",
       "       [  7.61,  74.  ],\n",
       "       [  0.94,  34.  ],\n",
       "       [  3.67,  71.  ],\n",
       "       [  8.47,   9.  ],\n",
       "       [  2.86,  67.  ],\n",
       "       [  1.9 ,  43.  ],\n",
       "       [  6.08,   0.  ],\n",
       "       [  8.42,  90.  ],\n",
       "       [  6.12,  77.  ],\n",
       "       [  0.  ,  47.  ],\n",
       "       [  2.16,  50.  ],\n",
       "       [  2.24,  38.  ],\n",
       "       [  2.31,  23.  ],\n",
       "       [  8.03,  31.  ],\n",
       "       [  9.02,   2.  ],\n",
       "       [  2.43,  20.  ],\n",
       "       [  4.5 ,  80.  ],\n",
       "       [  8.66,  70.  ],\n",
       "       [  7.95,  75.  ],\n",
       "       [  2.03,  26.  ],\n",
       "       [  5.43,  74.  ],\n",
       "       [  4.44,  78.  ],\n",
       "       [  3.17,  76.  ],\n",
       "       [  1.53,  42.  ],\n",
       "       [  7.85,  25.  ],\n",
       "       [  7.42,  85.  ],\n",
       "       [  2.14,  47.  ],\n",
       "       [  2.02,  36.  ],\n",
       "       [  9.43,  69.  ],\n",
       "       [  7.94,  22.  ],\n",
       "       [  1.83,  74.  ],\n",
       "       [  7.6 ,  23.  ],\n",
       "       [  6.41,  35.  ],\n",
       "       [  7.21,  94.  ],\n",
       "       [  2.53,  75.  ],\n",
       "       [  7.75,  16.  ],\n",
       "       [  8.08,  27.  ],\n",
       "       [  4.61,  62.  ],\n",
       "       [  4.04,  83.  ],\n",
       "       [  4.25,  61.  ],\n",
       "       [  2.44,  96.  ],\n",
       "       [  2.06,  51.  ],\n",
       "       [  7.94,  29.  ],\n",
       "       [  6.96,  20.  ],\n",
       "       [  8.34,  89.  ],\n",
       "       [  8.5 ,  76.  ],\n",
       "       [  6.91,  82.  ],\n",
       "       [  7.26,  76.  ],\n",
       "       [  8.11,  27.  ],\n",
       "       [  8.94,  15.  ],\n",
       "       [  4.71,  80.  ],\n",
       "       [  8.08,  22.  ],\n",
       "       [  7.76,  78.  ],\n",
       "       [  1.05,  52.  ],\n",
       "       [  8.58,  75.  ],\n",
       "       [  7.83,  74.  ],\n",
       "       [  7.85,  75.  ],\n",
       "       [  2.28,  39.  ],\n",
       "       [  2.56,  43.  ],\n",
       "       [  2.35,  57.  ],\n",
       "       [  2.22,  59.  ],\n",
       "       [  4.29,  91.  ],\n",
       "       [  9.5 , 100.  ],\n",
       "       [  7.81,  19.  ],\n",
       "       [  8.33,  80.  ],\n",
       "       [  8.07,  25.  ],\n",
       "       [  8.06,  38.  ],\n",
       "       [  7.61,  79.  ],\n",
       "       [  3.24,  77.  ],\n",
       "       [  2.33,  30.  ],\n",
       "       [  8.97,  14.  ],\n",
       "       [  8.89,  79.  ],\n",
       "       [  1.83,  52.  ],\n",
       "       [  2.13,  68.  ],\n",
       "       [  8.03,  37.  ],\n",
       "       [  5.8 ,  78.  ],\n",
       "       [ 10.  ,  86.  ],\n",
       "       [  2.41,  24.  ],\n",
       "       [  6.21,  56.  ],\n",
       "       [  7.76,  84.  ],\n",
       "       [  5.22,  87.  ],\n",
       "       [  6.65,  13.  ],\n",
       "       [  2.46,  30.  ]])"
      ]
     },
     "execution_count": 5,
     "metadata": {},
     "output_type": "execute_result"
    }
   ],
   "source": [
    "df = pd.read_csv('./data/KMeansData.csv')\n",
    "X = df.iloc[:, :].values\n",
    "X"
   ]
  },
  {
   "cell_type": "code",
   "execution_count": 6,
   "metadata": {},
   "outputs": [
    {
     "data": {
      "text/plain": [
       "Text(0, 0.5, 'score')"
      ]
     },
     "execution_count": 6,
     "metadata": {},
     "output_type": "execute_result"
    },
    {
     "data": {
      "image/png": "[encoded data removed]",
      "text/plain": [
       "<Figure size 400x250 with 1 Axes>"
      ]
     },
     "metadata": {},
     "output_type": "display_data"
    }
   ],
   "source": [
    "plt.figure(figsize=(8, 5), dpi=50)\n",
    "plt.scatter(X[0:, 0], X[:, 1])\n",
    "plt.xlabel('hour')\n",
    "plt.xlim(0, 100)\n",
    "plt.ylabel('score')"
   ]
  },
  {
   "cell_type": "code",
   "execution_count": 7,
   "metadata": {},
   "outputs": [
    {
     "data": {
      "text/plain": [
       "array([[ 0.68729921,  0.73538376],\n",
       "       [-0.66687438,  0.04198891],\n",
       "       [-0.77161709,  0.04198891],\n",
       "       [-0.9100271 ,  1.35173473],\n",
       "       [-0.8090252 ,  0.96651537],\n",
       "       [ 0.64615029, -1.07514723],\n",
       "       [ 0.98282328, -1.49888853],\n",
       "       [ 0.09251026,  0.31164246],\n",
       "       [ 1.21101275,  0.19607665],\n",
       "       [-0.28531166,  0.77390569],\n",
       "       [-0.18430976,  0.92799344],\n",
       "       [-1.07088197, -0.30470851],\n",
       "       [ 0.57133407, -1.88410788],\n",
       "       [-0.76413547, -0.612884  ],\n",
       "       [-0.9100271 , -0.18914271],\n",
       "       [-0.50976032,  0.4657302 ],\n",
       "       [ 1.37560843, -0.95958142],\n",
       "       [ 0.79204192,  0.77390569],\n",
       "       [-1.70307903, -0.76697174],\n",
       "       [-0.68183762,  0.65833988],\n",
       "       [ 1.11375166, -1.73002014],\n",
       "       [-0.98484332,  0.50425214],\n",
       "       [-1.34396117, -0.42027432],\n",
       "       [ 0.21969783, -2.07671756],\n",
       "       [ 1.09504761,  1.39025667],\n",
       "       [ 0.23466107,  0.8894715 ],\n",
       "       [-2.05471527, -0.26618658],\n",
       "       [-1.24670009, -0.15062077],\n",
       "       [-1.2167736 , -0.612884  ],\n",
       "       [-1.19058792, -1.19071304],\n",
       "       [ 0.94915598, -0.88253755],\n",
       "       [ 1.31949627, -1.99967369],\n",
       "       [-1.14569819, -1.30627885],\n",
       "       [-0.37135031,  1.00503731],\n",
       "       [ 1.18482707,  0.61981795],\n",
       "       [ 0.91922949,  0.81242763],\n",
       "       [-1.29533063, -1.07514723],\n",
       "       [-0.02345489,  0.77390569],\n",
       "       [-0.39379518,  0.92799344],\n",
       "       [-0.86887817,  0.85094956],\n",
       "       [-1.48237118, -0.45879626],\n",
       "       [ 0.88182138, -1.11366917],\n",
       "       [ 0.72096651,  1.19764699],\n",
       "       [-1.25418171, -0.26618658],\n",
       "       [-1.29907144, -0.68992787],\n",
       "       [ 1.47286952,  0.58129601],\n",
       "       [ 0.91548868, -1.22923497],\n",
       "       [-1.37014685,  0.77390569],\n",
       "       [ 0.7883011 , -1.19071304],\n",
       "       [ 0.34314459, -0.72844981],\n",
       "       [ 0.64240948,  1.54434441],\n",
       "       [-1.10829008,  0.81242763],\n",
       "       [ 0.84441327, -1.46036659],\n",
       "       [ 0.96786003, -1.03662529],\n",
       "       [-0.33020139,  0.31164246],\n",
       "       [-0.54342762,  1.12060312],\n",
       "       [-0.46487058,  0.27312053],\n",
       "       [-1.14195738,  1.62138828],\n",
       "       [-1.2841082 , -0.11209883],\n",
       "       [ 0.91548868, -0.95958142],\n",
       "       [ 0.5488892 , -1.30627885],\n",
       "       [ 1.06512112,  1.35173473],\n",
       "       [ 1.1249741 ,  0.85094956],\n",
       "       [ 0.53018514,  1.08208118],\n",
       "       [ 0.66111353,  0.85094956],\n",
       "       [ 0.97908247, -1.03662529],\n",
       "       [ 1.28956978, -1.49888853],\n",
       "       [-0.29279328,  1.00503731],\n",
       "       [ 0.96786003, -1.22923497],\n",
       "       [ 0.84815408,  0.92799344],\n",
       "       [-1.66193011, -0.0735769 ],\n",
       "       [ 1.15490058,  0.81242763],\n",
       "       [ 0.87433976,  0.77390569],\n",
       "       [ 0.88182138,  0.81242763],\n",
       "       [-1.20181035, -0.57436206],\n",
       "       [-1.09706765, -0.42027432],\n",
       "       [-1.17562468,  0.11903278],\n",
       "       [-1.22425522,  0.19607665],\n",
       "       [-0.44990734,  1.4287786 ],\n",
       "       [ 1.4990552 ,  1.77547603],\n",
       "       [ 0.86685814, -1.34480078],\n",
       "       [ 1.06138031,  1.00503731],\n",
       "       [ 0.96411922, -1.11366917],\n",
       "       [ 0.96037841, -0.612884  ],\n",
       "       [ 0.79204192,  0.96651537],\n",
       "       [-0.8426925 ,  0.8894715 ],\n",
       "       [-1.1831063 , -0.92105949],\n",
       "       [ 1.30079221, -1.53741046],\n",
       "       [ 1.27086573,  0.96651537],\n",
       "       [-1.37014685, -0.0735769 ],\n",
       "       [-1.25792252,  0.54277408],\n",
       "       [ 0.94915598, -0.65140594],\n",
       "       [ 0.11495512,  0.92799344],\n",
       "       [ 1.68609575,  1.23616892],\n",
       "       [-1.15317981, -1.1521911 ],\n",
       "       [ 0.26832837,  0.08051085],\n",
       "       [ 0.84815408,  1.15912505],\n",
       "       [-0.10201192,  1.27469086],\n",
       "       [ 0.43292406, -1.5759324 ],\n",
       "       [-1.13447576, -0.92105949]])"
      ]
     },
     "execution_count": 7,
     "metadata": {},
     "output_type": "execute_result"
    }
   ],
   "source": [
    "from sklearn.preprocessing import StandardScaler\n",
    "sc = StandardScaler()\n",
    "X = sc.fit_transform(X)\n",
    "X"
   ]
  },
  {
   "cell_type": "code",
   "execution_count": 8,
   "metadata": {},
   "outputs": [
    {
     "data": {
      "image/png": "[encoded data removed]",
      "text/plain": [
       "<Figure size 640x400 with 1 Axes>"
      ]
     },
     "metadata": {},
     "output_type": "display_data"
    }
   ],
   "source": [
    "plt.figure(figsize=(8, 5), dpi=80)\n",
    "plt.scatter(X[0:, 0], X[:, 1])\n",
    "plt.xlabel('hour')\n",
    "plt.ylabel('score')\n",
    "plt.show()"
   ]
  },
  {
   "cell_type": "code",
   "execution_count": 9,
   "metadata": {},
   "outputs": [
    {
     "data": {
      "image/png": "[encoded data removed]",
      "text/plain": [
       "<Figure size 640x480 with 1 Axes>"
      ]
     },
     "metadata": {},
     "output_type": "display_data"
    }
   ],
   "source": [
    "from sklearn.cluster import KMeans\n",
    "center_list = []\n",
    "\n",
    "for i in range(1,11):\n",
    "    kmeans = KMeans(n_clusters = i, init='k-means++', random_state=0, n_init=10)\n",
    "    kmeans.fit(X)\n",
    "    center_list.append(kmeans.inertia_)\n",
    "\n",
    "plt.plot(range(1,11), center_list)\n",
    "plt.show()"
   ]
  },
  {
   "cell_type": "code",
   "execution_count": 10,
   "metadata": {},
   "outputs": [
    {
     "data": {
      "text/plain": [
       "array([2, 3, 3, 0, 0, 1, 1, 0, 2, 0, 0, 3, 1, 3, 3, 0, 1, 2, 3, 0, 1, 0,\n",
       "       3, 1, 2, 2, 3, 3, 3, 3, 1, 1, 3, 0, 2, 2, 3, 0, 0, 0, 3, 1, 2, 3,\n",
       "       3, 2, 1, 0, 1, 1, 2, 0, 1, 1, 0, 0, 0, 0, 3, 1, 1, 2, 2, 2, 2, 1,\n",
       "       1, 0, 1, 2, 3, 2, 2, 2, 3, 3, 3, 3, 0, 2, 1, 2, 1, 1, 2, 0, 3, 1,\n",
       "       2, 3, 0, 1, 0, 2, 3, 2, 2, 0, 1, 3])"
      ]
     },
     "execution_count": 10,
     "metadata": {},
     "output_type": "execute_result"
    }
   ],
   "source": [
    "K=4\n",
    "kmeans=KMeans(n_clusters=K, random_state=0, n_init=10)\n",
    "group = kmeans.fit_predict(X)\n",
    "group"
   ]
  },
  {
   "cell_type": "code",
   "execution_count": 11,
   "metadata": {},
   "outputs": [
    {
     "data": {
      "text/plain": [
       "array([[-0.57163957,  0.85415973],\n",
       "       [ 0.8837666 , -1.26929779],\n",
       "       [ 0.94107583,  0.93569782],\n",
       "       [-1.22698889, -0.46768593]])"
      ]
     },
     "execution_count": 11,
     "metadata": {},
     "output_type": "execute_result"
    }
   ],
   "source": [
    "centers = kmeans.cluster_centers_\n",
    "centers"
   ]
  },
  {
   "cell_type": "code",
   "execution_count": 12,
   "metadata": {},
   "outputs": [
    {
     "data": {
      "image/png": "[encoded data removed]",
      "text/plain": [
       "<Figure size 640x480 with 1 Axes>"
      ]
     },
     "metadata": {},
     "output_type": "display_data"
    }
   ],
   "source": [
    "for cluster in range(4):\n",
    "    plt.scatter(X[group==cluster, 0], X[group==cluster, 1], s=100, edgecolors='black')\n",
    "    plt.scatter(centers[cluster, 0 ], centers[ cluster, 1], s=300, ec='black', color='yellow', marker='s')\n",
    "    plt.text(centers[cluster,0], centers[cluster,1], cluster, va='center', ha='center')\n",
    "plt.xlabel('hours')\n",
    "plt.ylabel('score')\n",
    "plt.show()"
   ]
  },
  {
   "cell_type": "code",
   "execution_count": 13,
   "metadata": {},
   "outputs": [],
   "source": [
    "X_org = sc.inverse_transform(X)\n",
    "X_org\n",
    "centers_org = sc.inverse_transform(centers)"
   ]
  },
  {
   "cell_type": "code",
   "execution_count": 14,
   "metadata": {},
   "outputs": [
    {
     "data": {
      "image/png": "[encoded data removed]",
      "text/plain": [
       "<Figure size 640x480 with 1 Axes>"
      ]
     },
     "metadata": {},
     "output_type": "display_data"
    }
   ],
   "source": [
    "for cluster in range(4):\n",
    "    plt.scatter(X_org[group==cluster, 0], X_org[group==cluster, 1], s=70, edgecolors='black')\n",
    "    plt.scatter(centers_org[cluster, 0], centers_org[cluster, 1], s=150, ec='black', color='yellow', marker='s')\n",
    "    plt.text(centers_org[cluster, 0], centers_org[cluster, 1], cluster, va='center', ha='center')\n",
    "plt.xlabel('hours')\n",
    "plt.ylabel('score')\n",
    "plt.show()"
   ]
  },
  {
   "cell_type": "code",
   "execution_count": 18,
   "metadata": {},
   "outputs": [
    {
     "data": {
      "text/html": [
       "<div>\n",
       "<style scoped>\n",
       "    .dataframe tbody tr th:only-of-type {\n",
       "        vertical-align: middle;\n",
       "    }\n",
       "\n",
       "    .dataframe tbody tr th {\n",
       "        vertical-align: top;\n",
       "    }\n",
       "\n",
       "    .dataframe thead th {\n",
       "        text-align: right;\n",
       "    }\n",
       "</style>\n",
       "<table border=\"1\" class=\"dataframe\">\n",
       "  <thead>\n",
       "    <tr style=\"text-align: right;\">\n",
       "      <th></th>\n",
       "      <th>hour</th>\n",
       "      <th>score</th>\n",
       "    </tr>\n",
       "  </thead>\n",
       "  <tbody>\n",
       "    <tr>\n",
       "      <th>0</th>\n",
       "      <td>7.33</td>\n",
       "      <td>73.0</td>\n",
       "    </tr>\n",
       "    <tr>\n",
       "      <th>1</th>\n",
       "      <td>3.71</td>\n",
       "      <td>55.0</td>\n",
       "    </tr>\n",
       "    <tr>\n",
       "      <th>2</th>\n",
       "      <td>3.43</td>\n",
       "      <td>55.0</td>\n",
       "    </tr>\n",
       "    <tr>\n",
       "      <th>3</th>\n",
       "      <td>3.06</td>\n",
       "      <td>89.0</td>\n",
       "    </tr>\n",
       "    <tr>\n",
       "      <th>4</th>\n",
       "      <td>3.33</td>\n",
       "      <td>79.0</td>\n",
       "    </tr>\n",
       "    <tr>\n",
       "      <th>...</th>\n",
       "      <td>...</td>\n",
       "      <td>...</td>\n",
       "    </tr>\n",
       "    <tr>\n",
       "      <th>95</th>\n",
       "      <td>6.21</td>\n",
       "      <td>56.0</td>\n",
       "    </tr>\n",
       "    <tr>\n",
       "      <th>96</th>\n",
       "      <td>7.76</td>\n",
       "      <td>84.0</td>\n",
       "    </tr>\n",
       "    <tr>\n",
       "      <th>97</th>\n",
       "      <td>5.22</td>\n",
       "      <td>87.0</td>\n",
       "    </tr>\n",
       "    <tr>\n",
       "      <th>98</th>\n",
       "      <td>6.65</td>\n",
       "      <td>13.0</td>\n",
       "    </tr>\n",
       "    <tr>\n",
       "      <th>99</th>\n",
       "      <td>2.46</td>\n",
       "      <td>30.0</td>\n",
       "    </tr>\n",
       "  </tbody>\n",
       "</table>\n",
       "<p>100 rows × 2 columns</p>\n",
       "</div>"
      ],
      "text/plain": [
       "    hour  score\n",
       "0   7.33   73.0\n",
       "1   3.71   55.0\n",
       "2   3.43   55.0\n",
       "3   3.06   89.0\n",
       "4   3.33   79.0\n",
       "..   ...    ...\n",
       "95  6.21   56.0\n",
       "96  7.76   84.0\n",
       "97  5.22   87.0\n",
       "98  6.65   13.0\n",
       "99  2.46   30.0\n",
       "\n",
       "[100 rows x 2 columns]"
      ]
     },
     "execution_count": 18,
     "metadata": {},
     "output_type": "execute_result"
    }
   ],
   "source": [
    "df2=pd.DataFrame(X_org)\n",
    "df2.columns=['hour', 'score']\n",
    "df2"
   ]
  },
  {
   "cell_type": "code",
   "execution_count": 23,
   "metadata": {},
   "outputs": [
    {
     "data": {
      "text/html": [
       "<div>\n",
       "<style scoped>\n",
       "    .dataframe tbody tr th:only-of-type {\n",
       "        vertical-align: middle;\n",
       "    }\n",
       "\n",
       "    .dataframe tbody tr th {\n",
       "        vertical-align: top;\n",
       "    }\n",
       "\n",
       "    .dataframe thead th {\n",
       "        text-align: right;\n",
       "    }\n",
       "</style>\n",
       "<table border=\"1\" class=\"dataframe\">\n",
       "  <thead>\n",
       "    <tr style=\"text-align: right;\">\n",
       "      <th></th>\n",
       "      <th>group</th>\n",
       "    </tr>\n",
       "  </thead>\n",
       "  <tbody>\n",
       "    <tr>\n",
       "      <th>0</th>\n",
       "      <td>2</td>\n",
       "    </tr>\n",
       "    <tr>\n",
       "      <th>1</th>\n",
       "      <td>3</td>\n",
       "    </tr>\n",
       "    <tr>\n",
       "      <th>2</th>\n",
       "      <td>3</td>\n",
       "    </tr>\n",
       "    <tr>\n",
       "      <th>3</th>\n",
       "      <td>0</td>\n",
       "    </tr>\n",
       "    <tr>\n",
       "      <th>4</th>\n",
       "      <td>0</td>\n",
       "    </tr>\n",
       "    <tr>\n",
       "      <th>...</th>\n",
       "      <td>...</td>\n",
       "    </tr>\n",
       "    <tr>\n",
       "      <th>95</th>\n",
       "      <td>2</td>\n",
       "    </tr>\n",
       "    <tr>\n",
       "      <th>96</th>\n",
       "      <td>2</td>\n",
       "    </tr>\n",
       "    <tr>\n",
       "      <th>97</th>\n",
       "      <td>0</td>\n",
       "    </tr>\n",
       "    <tr>\n",
       "      <th>98</th>\n",
       "      <td>1</td>\n",
       "    </tr>\n",
       "    <tr>\n",
       "      <th>99</th>\n",
       "      <td>3</td>\n",
       "    </tr>\n",
       "  </tbody>\n",
       "</table>\n",
       "<p>100 rows × 1 columns</p>\n",
       "</div>"
      ],
      "text/plain": [
       "    group\n",
       "0       2\n",
       "1       3\n",
       "2       3\n",
       "3       0\n",
       "4       0\n",
       "..    ...\n",
       "95      2\n",
       "96      2\n",
       "97      0\n",
       "98      1\n",
       "99      3\n",
       "\n",
       "[100 rows x 1 columns]"
      ]
     },
     "execution_count": 23,
     "metadata": {},
     "output_type": "execute_result"
    }
   ],
   "source": [
    "df3=pd.DataFrame(group)\n",
    "df3.columns=['group']\n",
    "df3"
   ]
  },
  {
   "cell_type": "code",
   "execution_count": 21,
   "metadata": {},
   "outputs": [
    {
     "data": {
      "text/html": [
       "<div>\n",
       "<style scoped>\n",
       "    .dataframe tbody tr th:only-of-type {\n",
       "        vertical-align: middle;\n",
       "    }\n",
       "\n",
       "    .dataframe tbody tr th {\n",
       "        vertical-align: top;\n",
       "    }\n",
       "\n",
       "    .dataframe thead th {\n",
       "        text-align: right;\n",
       "    }\n",
       "</style>\n",
       "<table border=\"1\" class=\"dataframe\">\n",
       "  <thead>\n",
       "    <tr style=\"text-align: right;\">\n",
       "      <th></th>\n",
       "      <th>hour</th>\n",
       "      <th>score</th>\n",
       "      <th>0</th>\n",
       "    </tr>\n",
       "  </thead>\n",
       "  <tbody>\n",
       "    <tr>\n",
       "      <th>0</th>\n",
       "      <td>7.33</td>\n",
       "      <td>73.0</td>\n",
       "      <td>2</td>\n",
       "    </tr>\n",
       "    <tr>\n",
       "      <th>1</th>\n",
       "      <td>3.71</td>\n",
       "      <td>55.0</td>\n",
       "      <td>3</td>\n",
       "    </tr>\n",
       "    <tr>\n",
       "      <th>2</th>\n",
       "      <td>3.43</td>\n",
       "      <td>55.0</td>\n",
       "      <td>3</td>\n",
       "    </tr>\n",
       "    <tr>\n",
       "      <th>3</th>\n",
       "      <td>3.06</td>\n",
       "      <td>89.0</td>\n",
       "      <td>0</td>\n",
       "    </tr>\n",
       "    <tr>\n",
       "      <th>4</th>\n",
       "      <td>3.33</td>\n",
       "      <td>79.0</td>\n",
       "      <td>0</td>\n",
       "    </tr>\n",
       "    <tr>\n",
       "      <th>...</th>\n",
       "      <td>...</td>\n",
       "      <td>...</td>\n",
       "      <td>...</td>\n",
       "    </tr>\n",
       "    <tr>\n",
       "      <th>95</th>\n",
       "      <td>6.21</td>\n",
       "      <td>56.0</td>\n",
       "      <td>2</td>\n",
       "    </tr>\n",
       "    <tr>\n",
       "      <th>96</th>\n",
       "      <td>7.76</td>\n",
       "      <td>84.0</td>\n",
       "      <td>2</td>\n",
       "    </tr>\n",
       "    <tr>\n",
       "      <th>97</th>\n",
       "      <td>5.22</td>\n",
       "      <td>87.0</td>\n",
       "      <td>0</td>\n",
       "    </tr>\n",
       "    <tr>\n",
       "      <th>98</th>\n",
       "      <td>6.65</td>\n",
       "      <td>13.0</td>\n",
       "      <td>1</td>\n",
       "    </tr>\n",
       "    <tr>\n",
       "      <th>99</th>\n",
       "      <td>2.46</td>\n",
       "      <td>30.0</td>\n",
       "      <td>3</td>\n",
       "    </tr>\n",
       "  </tbody>\n",
       "</table>\n",
       "<p>100 rows × 3 columns</p>\n",
       "</div>"
      ],
      "text/plain": [
       "    hour  score  0\n",
       "0   7.33   73.0  2\n",
       "1   3.71   55.0  3\n",
       "2   3.43   55.0  3\n",
       "3   3.06   89.0  0\n",
       "4   3.33   79.0  0\n",
       "..   ...    ... ..\n",
       "95  6.21   56.0  2\n",
       "96  7.76   84.0  2\n",
       "97  5.22   87.0  0\n",
       "98  6.65   13.0  1\n",
       "99  2.46   30.0  3\n",
       "\n",
       "[100 rows x 3 columns]"
      ]
     },
     "execution_count": 21,
     "metadata": {},
     "output_type": "execute_result"
    }
   ],
   "source": [
    "pd.concat([df2, df3],axis=1)"
   ]
  }
 ],
 "metadata": {
  "kernelspec": {
   "display_name": "Python 3",
   "language": "python",
   "name": "python3"
  },
  "language_info": {
   "codemirror_mode": {
    "name": "ipython",
    "version": 3
   },
   "file_extension": ".py",
   "mimetype": "text/x-python",
   "name": "python",
   "nbconvert_exporter": "python",
   "pygments_lexer": "ipython3",
   "version": "3.12.0"
  }
 },
 "nbformat": 4,
 "nbformat_minor": 2
}
